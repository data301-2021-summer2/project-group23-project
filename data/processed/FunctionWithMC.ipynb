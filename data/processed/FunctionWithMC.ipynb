{
 "cells": [
  {
   "cell_type": "code",
   "execution_count": 1,
   "id": "f700bfea-8391-4161-a5a8-f1cf45cda86e",
   "metadata": {},
   "outputs": [],
   "source": [
    "import pandas as pd\n",
    "import numpy as np\n",
    "import seaborn as sns\n",
    "\n",
    "spy = \"~/project-group23-project/data/raw/spy.csv\"\n",
    "tsla = \"~/project-group23-project/data/raw/TSLA.csv\"\n"
   ]
  },
  {
   "cell_type": "code",
   "execution_count": 2,
   "id": "164c4a53-44a1-4c71-a912-0f1e237d5bac",
   "metadata": {},
   "outputs": [],
   "source": [
    "\n",
    "\n",
    "\n",
    "# Making a function out of the method chaining\n",
    "#function 1 Goal: clean, rename, drop necessary rows/columns from 2 dataframes.\n",
    "\n",
    "\n",
    "def load_and_clean_tsla_spy(spy,tsla):\n",
    "    tsladf = (pd.read_csv(tsla, parse_dates=[\"Date\"])\n",
    "              .drop(columns=[\"High\",\"Low\",\"Adj Close\"])\n",
    "              .rename(columns={\"Open\":\"open_tsla\",\"Close\":\"close_tsla\",\"Volume\":\"vol_tsla\"})\n",
    "              .reset_index(drop=True))\n",
    "    \n",
    "    spydf = (pd.read_csv(spy, parse_dates=[\"Date\"])\n",
    "             .drop(columns=[\"High\",\"Low\",\"Adj Close\"])\n",
    "             .rename(columns={\"Open\":\"open_spy\",\"Close\":\"close_spy\",\"Volume\":\"vol_spy\"})\n",
    "             .reset_index(drop=True))\n",
    "    return (spydf,tsladf)\n",
    "\n",
    "x=load_and_clean_tsla_spy(spy,tsla)\n",
    "\n",
    "#SOURCES USED:\n",
    "#https://pandas.pydata.org/pandas-docs/stable/reference/api/pandas.DataFrame.drop.html\n",
    "#https://pandas.pydata.org/pandas-docs/stable/reference/api/pandas.DataFrame.rename.html\n",
    "#https://pandas.pydata.org/docs/reference/api/pandas.DataFrame.round.html\n",
    "#https://pandas.pydata.org/pandas-docs/stable/reference/api/pandas.DataFrame.reset_index.html\n",
    "#https://pandas.pydata.org/pandas-docs/stable/reference/api/pandas.to_datetime.html\n",
    "#https://pandas.pydata.org/pandas-docs/stable/reference/api/pandas.DataFrame.loc.html"
   ]
  },
  {
   "cell_type": "code",
   "execution_count": 3,
   "id": "f694b7d4-8ae8-4bc3-b77b-53724be47df1",
   "metadata": {},
   "outputs": [],
   "source": [
    "#function 2 GOAL: remove unwanted dates from df.\n",
    "spydf=x[0]\n",
    "\n",
    "removeolder=pd.to_datetime(\"2010-06-28\")\n",
    "removenewer=pd.to_datetime(\"2020-02-04\")\n",
    "def remove_dates(spydf):\n",
    "    \n",
    "    spyclean = (pd.DataFrame(spydf)\n",
    "               .loc[(spydf.Date > removeolder)]\n",
    "                .loc[(spydf.Date < removenewer)]\n",
    "                .reset_index(drop=True))\n",
    "    \n",
    "    return spyclean\n",
    "y=remove_dates(spydf)\n",
    "\n",
    "\n",
    "    \n",
    "\n",
    "        \n",
    "\n",
    "\n",
    "  \n",
    "\n",
    "\n",
    "   \n",
    "\n",
    "\n",
    "\n",
    "\n",
    "\n",
    "#SOURCES USED:\n",
    "#https://pandas.pydata.org/pandas-docs/stable/reference/api/pandas.DataFrame.drop.html\n",
    "#https://pandas.pydata.org/pandas-docs/stable/reference/api/pandas.DataFrame.rename.html\n",
    "#https://pandas.pydata.org/docs/reference/api/pandas.DataFrame.round.html\n",
    "#https://pandas.pydata.org/pandas-docs/stable/reference/api/pandas.DataFrame.reset_index.html\n",
    "#https://pandas.pydata.org/pandas-docs/stable/reference/api/pandas.to_datetime.html\n",
    "#https://pandas.pydata.org/pandas-docs/stable/reference/api/pandas.DataFrame.loc.html\n",
    "#https://stackoverflow.com/questions/41513324/python-pandas-drop-rows-of-a-timeserie-based-on-time-range"
   ]
  },
  {
   "cell_type": "code",
   "execution_count": 5,
   "id": "86554827-1eca-4c71-bda1-a380bab450a5",
   "metadata": {},
   "outputs": [
    {
     "name": "stdout",
     "output_type": "stream",
     "text": [
      "         Date  open_spy  close_spy    vol_spy  open_tsla  close_tsla  vol_tsla\n",
      "0  2010-06-29    106.02     104.21  373649500      19.00       23.89  18766300\n",
      "1  2010-06-30    103.92     103.22  284101700      25.79       23.83  17187100\n",
      "2  2010-07-01    103.15     102.76  382924800      25.00       21.96   8218800\n",
      "3  2010-07-02    103.11     102.20  233385200      23.00       19.20   5139800\n",
      "4  2010-07-06    103.64     102.87  256935300      20.00       16.11   6866900\n",
      "5  2010-07-07    103.13     106.11  253769400      16.40       15.80   6921700\n",
      "6  2010-07-08    107.00     107.16  210842100      16.14       17.46   7711400\n",
      "7  2010-07-09    107.13     107.96  144999900      17.58       17.40   4050600\n",
      "8  2010-07-12    107.60     108.03  131283600      17.95       17.05   2202500\n",
      "9  2010-07-13    109.15     109.66  213025900      17.39       18.14   2680100\n",
      "10 2010-07-14    109.31     109.65  184426800      17.94       19.84   4195200\n",
      "11 2010-07-15    109.61     109.68  232337900      19.94       19.89   3739800\n",
      "12 2010-07-16    109.09     106.66  282693400      20.70       20.64   2621300\n",
      "13 2010-07-19    107.05     107.29  186709000      21.37       21.91   2486500\n",
      "14 2010-07-20    105.87     108.48  258162400      21.85       20.30   1825300\n",
      "15 2010-07-21    109.04     107.07  264527000      20.66       20.22   1252500\n",
      "16 2010-07-22    108.34     109.46  274781300      20.50       21.00    957800\n",
      "17 2010-07-23    109.24     110.41  222020800      21.19       21.29    653600\n",
      "18 2010-07-26    110.60     111.56  184445700      21.50       20.95    922200\n",
      "19 2010-07-27    112.17     111.55  204855600      20.91       20.55    619700\n"
     ]
    }
   ],
   "source": [
    "#function 3 GOAL: merge the two cleaned data sets\n",
    "spydf=y\n",
    "tsladf=x[1]\n",
    "tslaspymerged=(spydf,tsladf)\n",
    "\n",
    "def merge_n_round(tslaspymerged):\n",
    "    \n",
    "    tslaspymerged = (pd.DataFrame(pd.merge(spydf,tsladf, how = 'inner'))\n",
    "                     .round(decimals=2))\n",
    "    return tslaspymerged\n",
    "z=merge_n_round(tslaspymerged)\n",
    "print(z.head(20))\n",
    "               \n",
    "                   \n"
   ]
  },
  {
   "cell_type": "code",
   "execution_count": 253,
   "id": "bce96b05-564b-4c0a-99cb-b1994707fa6c",
   "metadata": {},
   "outputs": [
    {
     "ename": "NameError",
     "evalue": "name 'tslaspymerge' is not defined",
     "output_type": "error",
     "traceback": [
      "\u001b[1;31m---------------------------------------------------------------------------\u001b[0m",
      "\u001b[1;31mNameError\u001b[0m                                 Traceback (most recent call last)",
      "\u001b[1;32m~\\AppData\\Local\\Temp/ipykernel_20028/3047374813.py\u001b[0m in \u001b[0;36m<module>\u001b[1;34m\u001b[0m\n\u001b[1;32m----> 1\u001b[1;33m \u001b[0mmerge_n_round\u001b[0m\u001b[1;33m(\u001b[0m\u001b[0mtslaspymerge\u001b[0m\u001b[1;33m)\u001b[0m\u001b[1;33m\u001b[0m\u001b[1;33m\u001b[0m\u001b[0m\n\u001b[0m",
      "\u001b[1;31mNameError\u001b[0m: name 'tslaspymerge' is not defined"
     ]
    }
   ],
   "source": []
  },
  {
   "cell_type": "code",
   "execution_count": 7,
   "id": "38af8452-582b-4bca-8825-fb68e21d26bb",
   "metadata": {},
   "outputs": [
    {
     "ename": "ModuleNotFoundError",
     "evalue": "No module named 'project_functions'",
     "output_type": "error",
     "traceback": [
      "\u001b[1;31m---------------------------------------------------------------------------\u001b[0m",
      "\u001b[1;31mModuleNotFoundError\u001b[0m                       Traceback (most recent call last)",
      "\u001b[1;32m~\\AppData\\Local\\Temp/ipykernel_12528/3954642993.py\u001b[0m in \u001b[0;36m<module>\u001b[1;34m\u001b[0m\n\u001b[1;32m----> 1\u001b[1;33m \u001b[1;32mimport\u001b[0m \u001b[0mproject_functions\u001b[0m\u001b[1;33m.\u001b[0m\u001b[0mpy\u001b[0m\u001b[1;33m\u001b[0m\u001b[1;33m\u001b[0m\u001b[0m\n\u001b[0m",
      "\u001b[1;31mModuleNotFoundError\u001b[0m: No module named 'project_functions'"
     ]
    }
   ],
   "source": []
  },
  {
   "cell_type": "code",
   "execution_count": 13,
   "id": "ea285863-0ca1-4913-aea3-6b6491a027c1",
   "metadata": {},
   "outputs": [
    {
     "ename": "ImportError",
     "evalue": "attempted relative import with no known parent package",
     "output_type": "error",
     "traceback": [
      "\u001b[1;31m---------------------------------------------------------------------------\u001b[0m",
      "\u001b[1;31mImportError\u001b[0m                               Traceback (most recent call last)",
      "\u001b[1;32m~\\AppData\\Local\\Temp/ipykernel_17968/2787816019.py\u001b[0m in \u001b[0;36m<module>\u001b[1;34m\u001b[0m\n\u001b[1;32m----> 1\u001b[1;33m \u001b[1;32mfrom\u001b[0m \u001b[1;33m.\u001b[0m\u001b[1;33m.\u001b[0m\u001b[1;32mimport\u001b[0m \u001b[0mproject_functions\u001b[0m\u001b[1;33m\u001b[0m\u001b[1;33m\u001b[0m\u001b[0m\n\u001b[0m\u001b[0;32m      2\u001b[0m \u001b[1;33m\u001b[0m\u001b[0m\n",
      "\u001b[1;31mImportError\u001b[0m: attempted relative import with no known parent package"
     ]
    }
   ],
   "source": [
    "\n",
    "\n",
    "\n",
    "    "
   ]
  },
  {
   "cell_type": "code",
   "execution_count": null,
   "id": "67ae449a-fdc9-4d42-938e-980ae9243360",
   "metadata": {},
   "outputs": [],
   "source": []
  }
 ],
 "metadata": {
  "kernelspec": {
   "display_name": "Python 3 (ipykernel)",
   "language": "python",
   "name": "python3"
  },
  "language_info": {
   "codemirror_mode": {
    "name": "ipython",
    "version": 3
   },
   "file_extension": ".py",
   "mimetype": "text/x-python",
   "name": "python",
   "nbconvert_exporter": "python",
   "pygments_lexer": "ipython3",
   "version": "3.8.5"
  }
 },
 "nbformat": 4,
 "nbformat_minor": 5
}
